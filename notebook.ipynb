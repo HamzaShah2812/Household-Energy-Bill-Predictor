{
 "cells": [
  {
   "cell_type": "code",
   "execution_count": null,
   "id": "d925689c",
   "metadata": {},
   "outputs": [
    {
     "name": "stdout",
     "output_type": "stream",
     "text": [
      "[INFO] Data loaded successfully from: Household energy bill data.csv\n",
      "[INFO] Missing values filled with column medians.\n",
      "[INFO] Removed 0 duplicate rows.\n",
      "[INFO] Histograms saved to graphs\\histograms.png\n",
      "[INFO] Heatmap saved to graphs\\heatmap.png\n",
      "[INFO] Data split into train and test sets.\n",
      "Train shape: (800, 9), Test shape: (200, 9)\n",
      "[INFO] SVM model trained successfully.\n",
      "[INFO] Evaluation Results:\n",
      "MSE: 34522.48, R²: -0.00\n",
      "[INFO] Model saved to models/svm_model.pkl\n"
     ]
    },
    {
     "ename": "KeyError",
     "evalue": "\"['is_acis_tvis_flat'] not in index\"",
     "output_type": "error",
     "traceback": [
      "\u001b[31m---------------------------------------------------------------------------\u001b[39m",
      "\u001b[31mKeyError\u001b[39m                                  Traceback (most recent call last)",
      "\u001b[36mCell\u001b[39m\u001b[36m \u001b[39m\u001b[32mIn[3]\u001b[39m\u001b[32m, line 40\u001b[39m\n\u001b[32m     36\u001b[39m \u001b[38;5;66;03m# 💾 Save model\u001b[39;00m\n\u001b[32m     37\u001b[39m svm.save_model(\u001b[33m\"\u001b[39m\u001b[33mmodels/svm_model.pkl\u001b[39m\u001b[33m\"\u001b[39m)\n\u001b[32m---> \u001b[39m\u001b[32m40\u001b[39m X = \u001b[43mdf\u001b[49m\u001b[43m[\u001b[49m\u001b[43m[\u001b[49m\u001b[33;43m\"\u001b[39;49m\u001b[33;43mnum_rooms\u001b[39;49m\u001b[33;43m\"\u001b[39;49m\u001b[43m,\u001b[49m\u001b[43m\t\u001b[49m\u001b[33;43m\"\u001b[39;49m\u001b[33;43mnum_people\u001b[39;49m\u001b[33;43m\"\u001b[39;49m\u001b[43m,\u001b[49m\u001b[43m\t\u001b[49m\u001b[33;43m\"\u001b[39;49m\u001b[33;43mhousearea\u001b[39;49m\u001b[33;43m\"\u001b[39;49m\u001b[43m,\u001b[49m\u001b[43m\t\u001b[49m\u001b[33;43m\"\u001b[39;49m\u001b[33;43mis_ac\u001b[39;49m\u001b[33;43m\"\u001b[39;49m\u001b[43m\t\u001b[49m\u001b[33;43m\"\u001b[39;49m\u001b[33;43mis_tv\u001b[39;49m\u001b[33;43m\"\u001b[39;49m\u001b[43m\t\u001b[49m\u001b[33;43m\"\u001b[39;49m\u001b[33;43mis_flat\u001b[39;49m\u001b[33;43m\"\u001b[39;49m\u001b[43m,\u001b[49m\u001b[43m\t\u001b[49m\u001b[33;43m\"\u001b[39;49m\u001b[33;43mave_monthly_income\u001b[39;49m\u001b[33;43m\"\u001b[39;49m\u001b[43m,\u001b[49m\u001b[43m\t\u001b[49m\u001b[33;43m\"\u001b[39;49m\u001b[33;43mnum_children\u001b[39;49m\u001b[33;43m\"\u001b[39;49m\u001b[43m,\u001b[49m\u001b[43m\t\u001b[49m\u001b[33;43m\"\u001b[39;49m\u001b[33;43mis_urban\u001b[39;49m\u001b[33;43m\"\u001b[39;49m\u001b[43m,\u001b[49m\u001b[43m\t\u001b[49m\u001b[33;43m\"\u001b[39;49m\u001b[33;43mamount_paid\u001b[39;49m\u001b[33;43m\"\u001b[39;49m\u001b[43m]\u001b[49m\u001b[43m]\u001b[49m\n\u001b[32m     43\u001b[39m y = df[\u001b[33m\"\u001b[39m\u001b[33mElectricity Bill (Rs)\u001b[39m\u001b[33m\"\u001b[39m]\n\u001b[32m     45\u001b[39m \u001b[38;5;66;03m# ✅ Split data\u001b[39;00m\n",
      "\u001b[36mFile \u001b[39m\u001b[32mc:\\Users\\Hamza Shah\\AppData\\Local\\Programs\\Python\\Python313\\Lib\\site-packages\\pandas\\core\\frame.py:4113\u001b[39m, in \u001b[36mDataFrame.__getitem__\u001b[39m\u001b[34m(self, key)\u001b[39m\n\u001b[32m   4111\u001b[39m     \u001b[38;5;28;01mif\u001b[39;00m is_iterator(key):\n\u001b[32m   4112\u001b[39m         key = \u001b[38;5;28mlist\u001b[39m(key)\n\u001b[32m-> \u001b[39m\u001b[32m4113\u001b[39m     indexer = \u001b[38;5;28;43mself\u001b[39;49m\u001b[43m.\u001b[49m\u001b[43mcolumns\u001b[49m\u001b[43m.\u001b[49m\u001b[43m_get_indexer_strict\u001b[49m\u001b[43m(\u001b[49m\u001b[43mkey\u001b[49m\u001b[43m,\u001b[49m\u001b[43m \u001b[49m\u001b[33;43m\"\u001b[39;49m\u001b[33;43mcolumns\u001b[39;49m\u001b[33;43m\"\u001b[39;49m\u001b[43m)\u001b[49m[\u001b[32m1\u001b[39m]\n\u001b[32m   4115\u001b[39m \u001b[38;5;66;03m# take() does not accept boolean indexers\u001b[39;00m\n\u001b[32m   4116\u001b[39m \u001b[38;5;28;01mif\u001b[39;00m \u001b[38;5;28mgetattr\u001b[39m(indexer, \u001b[33m\"\u001b[39m\u001b[33mdtype\u001b[39m\u001b[33m\"\u001b[39m, \u001b[38;5;28;01mNone\u001b[39;00m) == \u001b[38;5;28mbool\u001b[39m:\n",
      "\u001b[36mFile \u001b[39m\u001b[32mc:\\Users\\Hamza Shah\\AppData\\Local\\Programs\\Python\\Python313\\Lib\\site-packages\\pandas\\core\\indexes\\base.py:6212\u001b[39m, in \u001b[36mIndex._get_indexer_strict\u001b[39m\u001b[34m(self, key, axis_name)\u001b[39m\n\u001b[32m   6209\u001b[39m \u001b[38;5;28;01melse\u001b[39;00m:\n\u001b[32m   6210\u001b[39m     keyarr, indexer, new_indexer = \u001b[38;5;28mself\u001b[39m._reindex_non_unique(keyarr)\n\u001b[32m-> \u001b[39m\u001b[32m6212\u001b[39m \u001b[38;5;28;43mself\u001b[39;49m\u001b[43m.\u001b[49m\u001b[43m_raise_if_missing\u001b[49m\u001b[43m(\u001b[49m\u001b[43mkeyarr\u001b[49m\u001b[43m,\u001b[49m\u001b[43m \u001b[49m\u001b[43mindexer\u001b[49m\u001b[43m,\u001b[49m\u001b[43m \u001b[49m\u001b[43maxis_name\u001b[49m\u001b[43m)\u001b[49m\n\u001b[32m   6214\u001b[39m keyarr = \u001b[38;5;28mself\u001b[39m.take(indexer)\n\u001b[32m   6215\u001b[39m \u001b[38;5;28;01mif\u001b[39;00m \u001b[38;5;28misinstance\u001b[39m(key, Index):\n\u001b[32m   6216\u001b[39m     \u001b[38;5;66;03m# GH 42790 - Preserve name from an Index\u001b[39;00m\n",
      "\u001b[36mFile \u001b[39m\u001b[32mc:\\Users\\Hamza Shah\\AppData\\Local\\Programs\\Python\\Python313\\Lib\\site-packages\\pandas\\core\\indexes\\base.py:6264\u001b[39m, in \u001b[36mIndex._raise_if_missing\u001b[39m\u001b[34m(self, key, indexer, axis_name)\u001b[39m\n\u001b[32m   6261\u001b[39m     \u001b[38;5;28;01mraise\u001b[39;00m \u001b[38;5;167;01mKeyError\u001b[39;00m(\u001b[33mf\u001b[39m\u001b[33m\"\u001b[39m\u001b[33mNone of [\u001b[39m\u001b[38;5;132;01m{\u001b[39;00mkey\u001b[38;5;132;01m}\u001b[39;00m\u001b[33m] are in the [\u001b[39m\u001b[38;5;132;01m{\u001b[39;00maxis_name\u001b[38;5;132;01m}\u001b[39;00m\u001b[33m]\u001b[39m\u001b[33m\"\u001b[39m)\n\u001b[32m   6263\u001b[39m not_found = \u001b[38;5;28mlist\u001b[39m(ensure_index(key)[missing_mask.nonzero()[\u001b[32m0\u001b[39m]].unique())\n\u001b[32m-> \u001b[39m\u001b[32m6264\u001b[39m \u001b[38;5;28;01mraise\u001b[39;00m \u001b[38;5;167;01mKeyError\u001b[39;00m(\u001b[33mf\u001b[39m\u001b[33m\"\u001b[39m\u001b[38;5;132;01m{\u001b[39;00mnot_found\u001b[38;5;132;01m}\u001b[39;00m\u001b[33m not in index\u001b[39m\u001b[33m\"\u001b[39m)\n",
      "\u001b[31mKeyError\u001b[39m: \"['is_acis_tvis_flat'] not in index\""
     ]
    }
   ],
   "source": [
    "# 📦 Step 1: Import libraries\n",
    "import pandas as pd\n",
    "import matplotlib.pyplot as plt\n",
    "import seaborn as sns\n",
    "\n",
    "# ✅ Step 2: Import your custom class\n",
    "from src.data_loader import DataLoader\n",
    "from src.preprocessing import DataPreprocessor\n",
    "from src.data_analyzer import DataAnalyzer\n",
    "from src.data_splitter import DataSplitter\n",
    "from src.svm_model import SVMModel\n",
    "\n",
    "\n",
    "\n",
    "\n",
    "\n",
    "# 🚀 Step 3: Load the data using the DataLoader class\n",
    "file_path = \"Household energy bill data.csv\"\n",
    "loader = DataLoader(file_path)\n",
    "df = loader.load_data()\n",
    "preprocessor = DataPreprocessor(df)\n",
    "df = preprocessor.preprocess()\n",
    "analyzer = DataAnalyzer(df)\n",
    "analyzer.run_all()\n",
    "splitter = DataSplitter(df, target_column=\"amount_paid\")\n",
    "X_train, X_test, y_train, y_test = splitter.split()\n",
    "\n",
    "svm = SVMModel()\n",
    "svm.train(X_train, y_train)\n",
    "\n",
    "# 📈 Evaluate\n",
    "predictions = svm.evaluate(X_test, y_test)\n",
    "\n",
    "# 💾 Save model\n",
    "svm.save_model(\"models/svm_model.pkl\")\n",
    "\n",
    "# 🔍 Step 4: Basic understanding\n",
    "print(\"First 5 rows:\\n\", df.head())\n",
    "print(\"\\nDataset Shape:\", df.shape)\n",
    "print(\"\\nColumn Info:\")\n",
    "df.info()\n",
    "print(\"\\nSummary Statistics:\\n\", df.describe())\n",
    "\n",
    "# ❓ Step 5: Check for nulls & duplicates\n",
    "print(\"\\nNull Values:\\n\", df.isnull().sum())\n",
    "print(\"\\nDuplicate Rows:\", df.duplicated().sum())\n",
    "\n",
    "# 🧭 Step 6: Basic EDA\n",
    "# Histograms for numerical columns\n",
    "df.hist(bins=20, figsize=(14, 10))\n",
    "plt.suptitle(\"Distribution of Numerical Columns\", fontsize=16)\n",
    "plt.tight_layout()\n",
    "plt.show()\n",
    "\n",
    "# Heatmap to show correlations\n",
    "plt.figure(figsize=(10, 8))\n",
    "sns.heatmap(df.corr(numeric_only=True), annot=True, cmap='coolwarm')\n",
    "plt.title(\"Correlation Heatmap\")\n",
    "plt.show()\n"
   ]
  }
 ],
 "metadata": {
  "kernelspec": {
   "display_name": "Python 3",
   "language": "python",
   "name": "python3"
  },
  "language_info": {
   "codemirror_mode": {
    "name": "ipython",
    "version": 3
   },
   "file_extension": ".py",
   "mimetype": "text/x-python",
   "name": "python",
   "nbconvert_exporter": "python",
   "pygments_lexer": "ipython3",
   "version": "3.13.4"
  }
 },
 "nbformat": 4,
 "nbformat_minor": 5
}
